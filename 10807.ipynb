{
 "cells": [
  {
   "cell_type": "code",
   "execution_count": 3,
   "metadata": {},
   "outputs": [
    {
     "name": "stdout",
     "output_type": "stream",
     "text": [
      "[3]\n"
     ]
    }
   ],
   "source": [
    "a = list(map(int, input().split()))\n",
    "b = list(set(a))\n",
    "\n",
    "if len(b) == 3:\n",
    "  print(max(b)*100)\n",
    "\n",
    "# elif len(b) == 2:\n",
    "\n",
    "elif len(b) == 1:\n",
    "  print(b)\n"
   ]
  }
 ],
 "metadata": {
  "kernelspec": {
   "display_name": "drax_py3.9",
   "language": "python",
   "name": "drax_py3.9"
  },
  "language_info": {
   "codemirror_mode": {
    "name": "ipython",
    "version": 3
   },
   "file_extension": ".py",
   "mimetype": "text/x-python",
   "name": "python",
   "nbconvert_exporter": "python",
   "pygments_lexer": "ipython3",
   "version": "3.9.12"
  },
  "orig_nbformat": 4
 },
 "nbformat": 4,
 "nbformat_minor": 2
}
