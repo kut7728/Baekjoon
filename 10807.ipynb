{
 "cells": [
  {
   "cell_type": "code",
   "execution_count": 3,
   "metadata": {},
   "outputs": [],
   "source": [
    "sum, input = 31, 52"
   ]
  },
  {
   "cell_type": "code",
   "execution_count": 6,
   "metadata": {},
   "outputs": [
    {
     "name": "stdout",
     "output_type": "stream",
     "text": [
      "나는 31살이며 52만원을 가지고 있다\n"
     ]
    }
   ],
   "source": [
    "print(f\"나는 {sum}살이며 {input}만원을 가지고 있다\")"
   ]
  }
 ],
 "metadata": {
  "kernelspec": {
   "display_name": "drax_py3.9",
   "language": "python",
   "name": "drax_py3.9"
  },
  "language_info": {
   "codemirror_mode": {
    "name": "ipython",
    "version": 3
   },
   "file_extension": ".py",
   "mimetype": "text/x-python",
   "name": "python",
   "nbconvert_exporter": "python",
   "pygments_lexer": "ipython3",
   "version": "3.9.12"
  },
  "orig_nbformat": 4
 },
 "nbformat": 4,
 "nbformat_minor": 2
}
