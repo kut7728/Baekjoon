{
 "cells": [
  {
   "cell_type": "code",
   "execution_count": null,
   "metadata": {},
   "outputs": [],
   "source": [
    "def add(a, b):\n",
    "  return a+b\n",
    "\n",
    "def add_manager(add, a, b):\n",
    "  print(add(a,b))\n",
    "\n",
    "  add_man"
   ]
  }
 ],
 "metadata": {
  "kernelspec": {
   "display_name": "drax_py3.9",
   "language": "python",
   "name": "drax_py3.9"
  },
  "language_info": {
   "codemirror_mode": {
    "name": "ipython",
    "version": 3
   },
   "file_extension": ".py",
   "mimetype": "text/x-python",
   "name": "python",
   "nbconvert_exporter": "python",
   "pygments_lexer": "ipython3",
   "version": "3.9.12"
  },
  "orig_nbformat": 4
 },
 "nbformat": 4,
 "nbformat_minor": 2
}
